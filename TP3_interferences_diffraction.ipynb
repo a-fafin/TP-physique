{
 "cells": [
  {
   "cell_type": "markdown",
   "id": "1e702926",
   "metadata": {},
   "source": [
    "# TP3: Interférences et diffraction"
   ]
  },
  {
   "cell_type": "markdown",
   "id": "6731aa0e",
   "metadata": {},
   "source": [
    "Import des bibliothèque: numpy pour la gestion des tableaux/calculs et matplotlib pour les affichages graphiques"
   ]
  },
  {
   "cell_type": "code",
   "execution_count": null,
   "id": "7b8f07fc",
   "metadata": {},
   "outputs": [],
   "source": [
    "import numpy as np                      # pour le traitement vectoriel des données\n",
    "import numpy.random as rd               # pour les tirages aléatoires\n",
    "import matplotlib.pyplot as plt         # pour les graphiques"
   ]
  },
  {
   "cell_type": "markdown",
   "id": "1292a21d",
   "metadata": {},
   "source": [
    "## 1.2) Mesure de l'épaisseur d'un cheveu"
   ]
  },
  {
   "cell_type": "markdown",
   "id": "7a290d67",
   "metadata": {},
   "source": [
    "### Tracé des résultats"
   ]
  },
  {
   "cell_type": "markdown",
   "id": "7be63ca0",
   "metadata": {},
   "source": [
    ">**Remplir les trois tableaux suivant avec vos résultats de mesures**"
   ]
  },
  {
   "cell_type": "code",
   "execution_count": null,
   "id": "d03db8db",
   "metadata": {},
   "outputs": [],
   "source": [
    "L = np.array([]) # L en cm"
   ]
  },
  {
   "cell_type": "code",
   "execution_count": null,
   "id": "db9625b4",
   "metadata": {},
   "outputs": [],
   "source": [
    "u_L = np.array([]) # Incertitudes-types sur L en cm"
   ]
  },
  {
   "cell_type": "code",
   "execution_count": null,
   "id": "ea8e8e34",
   "metadata": {},
   "outputs": [],
   "source": [
    "a = np.array([]) # a en µm"
   ]
  },
  {
   "cell_type": "code",
   "execution_count": null,
   "id": "ff35c2a4",
   "metadata": {},
   "outputs": [],
   "source": [
    "plt.clf()\n",
    "plt.errorbar(a,L,yerr=u_L)\n",
    "plt.xlabel(r\"$a$ (en µm))\")\n",
    "plt.ylabel(r\"$L$ (en cm)\")\n",
    "plt.show()"
   ]
  },
  {
   "cell_type": "markdown",
   "id": "7d668380",
   "metadata": {},
   "source": [
    ">**Oups: La courbe ci-dessus n'est pas une droite. Modifier le code ci-dessus afin que la courbe représentée soit linéaire**"
   ]
  },
  {
   "cell_type": "markdown",
   "id": "1c2b4b44",
   "metadata": {},
   "source": [
    "### Régression linéaire\n",
    "On peut maintenant utiliser la fonction polyfit afin d'effectuer une régression linéaire et connaitre la pente de la droite et l'ordonnée à l'origine. Le modèle est donc: \n",
    "$$L = \\frac{1}{a} A + B$$\n",
    "avec $A$ la pente et $B$ l'ordonnée à l'origine.\n",
    "\n",
    "Pour effectuer cette régression linéaire on utilise la fonction polyfit. "
   ]
  },
  {
   "cell_type": "code",
   "execution_count": null,
   "id": "97c6ddfb",
   "metadata": {},
   "outputs": [],
   "source": [
    "p = np.polyfit(1/a,L, 1)                      # Régression linéaire de A en fonction de C\n",
    "plt.clf()\n",
    "plt.plot(1/a, np.polyval(p,1/a), alpha=0.3)      # Tracé de la droite de régression, en transparence         \n",
    "plt.errorbar(1/a, L, yerr = u_L, fmt=',k')     # Tracé des points avec barres d'incertitude \n",
    "plt.xlabel(r\"$1/a$ (en µm$^{-1}$)\")\n",
    "plt.ylabel(r\"$L$ (en cm)\")\n",
    "plt.grid()\n",
    "plt.show()\n"
   ]
  },
  {
   "cell_type": "markdown",
   "id": "3909c748",
   "metadata": {},
   "source": [
    "### Tracé de l'écart normalisé"
   ]
  },
  {
   "cell_type": "markdown",
   "id": "fe736dbc",
   "metadata": {},
   "source": [
    "On peut tracer l'écart normalisé (ou z-score), qui est ici donné par la formule: \n",
    "$$ EN= \\frac{L-L_\\text{modèle}}{u(L)} $$"
   ]
  },
  {
   "cell_type": "code",
   "execution_count": null,
   "id": "a1ecdc8d",
   "metadata": {},
   "outputs": [],
   "source": [
    "z = (L-np.polyval(p,1/a))/(u_L)\n",
    "plt.clf()\n",
    "plt.figure()\n",
    "plt.plot(1/a, z,'bo')               \n",
    "plt.xlabel(r\"$1/a$ (en µm$^{-1}$)\")\n",
    "plt.ylabel(r\"$Ecart normalisé$ (en cm)\")\n",
    "plt.ticklabel_format(axis = 'x', style = 'sci', scilimits= (0,0))\n",
    "plt.title('Ecarts normalisés')\n",
    "plt.grid()\n",
    "plt.show()"
   ]
  },
  {
   "cell_type": "markdown",
   "id": "591c8d16",
   "metadata": {},
   "source": [
    ">**Après visualisation de l'écart normalisé, vos mesures sont-elles compatibles avec une droite de type $L = \\frac{1}{a} A + B$? Justifier**"
   ]
  },
  {
   "cell_type": "markdown",
   "id": "20e1a711",
   "metadata": {},
   "source": [
    ">**Effectuer la mesure de l'épaisseur d'un cheveu**"
   ]
  },
  {
   "cell_type": "markdown",
   "id": "68da5b4d",
   "metadata": {},
   "source": [
    "### Incertitudes sur la pente et l'ordonnée à l'origine (si vous avez le temps)"
   ]
  },
  {
   "cell_type": "markdown",
   "id": "e8b032ee",
   "metadata": {},
   "source": [
    "A l’aide d’une simulation Monte-Carlo, on utilise la variabilité de chaque point $u(L)$ pour générer un grand nombre de distributions de points. Pour chacune de ces distributions, on réalise une régression linéaire ce qui conduira au final à un grand nombre de valeurs de $A$ et de $B$. Il suffit ensuite de réaliser une étude statistique deces données pour en déduire leur incertitude-type."
   ]
  },
  {
   "cell_type": "code",
   "execution_count": null,
   "id": "9bcd9c2d",
   "metadata": {},
   "outputs": [],
   "source": [
    "N = 10000          # Nombre de simulations\n",
    "A=np.zeros(N)      # Création d'un tableau de dimension N\n",
    "B=np.zeros(N)      # Création d'un tableau de dimension N\n",
    "\n",
    "    \n",
    "for i in range (0,N):\n",
    "    L_sim = L + u_L * rd.uniform(-1, +1)                  # Génère des valeurs aléatoires de U selon une loi rectangulaire\n",
    "    \n",
    "    modele= np.polyfit(1/a, L_sim, 1)\n",
    "    A[i]=modele[0]\n",
    "    B[i]=modele[1]\n",
    "\n",
    "A_barre = np.mean(A)                        # Moyenne des valeurs de la pente\n",
    "u_A = np.std(A, ddof=1)                     # Ecart-type de la série de la pente\n",
    "\n",
    "B_barre = np.mean(B)                           # Moyenne des valeurs de l'ordonnée à l'origine\n",
    "u_B = np.std(B, ddof=1)                        # Ecart - type de la série de l'ordonnée à l'origine\n",
    "\n",
    "#affichage console \n",
    "\n",
    "print(\"La pente de la droite est\",  A_barre)\n",
    "print(\"L'incertitude sur la pente de la droite est\", u_A)\n",
    "\n",
    "print(\"L'ordonnée à l'origine  est\",  B_barre)\n",
    "print(\"L'incertitude sur l'ordonnée à l'origine  est\", u_B)"
   ]
  },
  {
   "cell_type": "markdown",
   "id": "42dcc3ab",
   "metadata": {},
   "source": [
    "On peut calculer la largeur du cheveu $a$ à partir de la pente calculée $A$, de l'ordonnée à l'origine $B$ et de la largeur de la tache du cheveu $L_\\text{cheveu}$ avec la formule: \n",
    "$$ a = \\frac{A}{L-B}$$\n",
    "\n",
    "Pour tenir compte des incertitudes on fait un tirage aléatoire sur chaque grandeur en tenant compte de l'incertitude-type associée. On calcul ensuite la moyenne et l'écart-type par rapport à cette moyenne"
   ]
  },
  {
   "cell_type": "code",
   "execution_count": null,
   "id": "203cb3bf",
   "metadata": {},
   "outputs": [],
   "source": [
    "N = 10000         # Nombre de simulations\n",
    "L_cheveu =     # A REMPLIR Largeur de la tache centrale mesurée\n",
    "u_L =         # A REMPLIR Incertitude sur cette largeur\n",
    "a_sim=np.zeros(N)\n",
    "\n",
    "for i in range (0,N):\n",
    "    L_sim = L_cheveu + u_L* rd.uniform(-1, +1)\n",
    "    A_sim = A_barre + u_A * rd.uniform(-1, +1)\n",
    "    B_sim = B_barre + u_B * rd.uniform(-1, +1)\n",
    "    a_sim[i] = A_sim/(L_sim-B_sim)\n",
    "\n",
    "a_barre = np.mean(a_sim)\n",
    "u_a = np.std(a_sim,ddof=1)\n",
    "\n",
    "print(\"La largeur du cheveu est\",  a_barre)\n",
    "print(\"L'incertitude sur la largeur du cheveu est\", u_a)"
   ]
  },
  {
   "cell_type": "code",
   "execution_count": null,
   "id": "cfbaa817",
   "metadata": {},
   "outputs": [],
   "source": []
  }
 ],
 "metadata": {
  "kernelspec": {
   "display_name": "Python 3",
   "language": "python",
   "name": "python3"
  },
  "language_info": {
   "codemirror_mode": {
    "name": "ipython",
    "version": 3
   },
   "file_extension": ".py",
   "mimetype": "text/x-python",
   "name": "python",
   "nbconvert_exporter": "python",
   "pygments_lexer": "ipython3",
   "version": "3.9.7"
  }
 },
 "nbformat": 4,
 "nbformat_minor": 5
}
