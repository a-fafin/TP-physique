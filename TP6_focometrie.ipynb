{
 "cells": [
  {
   "cell_type": "markdown",
   "id": "4a8f75cf",
   "metadata": {},
   "source": [
    "# TP 6: Lentilles minces et focométrie"
   ]
  },
  {
   "cell_type": "markdown",
   "id": "c484eb4a",
   "metadata": {},
   "source": [
    "Import des bibliothèque: numpy pour la gestion des tableaux/calculs et matplotlib pour les affichages graphiques"
   ]
  },
  {
   "cell_type": "code",
   "execution_count": null,
   "id": "b8c561f5",
   "metadata": {},
   "outputs": [],
   "source": [
    "import numpy as np                      # pour le traitement vectoriel des données\n",
    "import matplotlib.pyplot as plt         # pour les graphiques"
   ]
  },
  {
   "cell_type": "markdown",
   "id": "6b242581",
   "metadata": {},
   "source": [
    "## Mesure de distances focales par autocollimation"
   ]
  },
  {
   "cell_type": "markdown",
   "id": "96a39897",
   "metadata": {},
   "source": [
    "On souhaite introduire ici le principe de la simulation Monte-Carlo, qui consiste à **simuler** un grand nombre de valeurs afin de déterminer l'incertitude type. \n",
    "\n",
    "On veut simuler N=100000 valeurs de la distance focale, selon une loi uniforme, à partir de la précision $\\Delta$ que vous avez estimés expérimentalement. \n",
    "\n",
    "> Pour générer aléatroirement des valeurs comprises dans l'intervalle [bas,haut], on utilise l'expression **np.random.uniform(bas,haut,nombre de simulations)**"
   ]
  },
  {
   "cell_type": "code",
   "execution_count": null,
   "id": "80404939",
   "metadata": {},
   "outputs": [],
   "source": [
    "f = <valeur>                                # Remplacer <valeur> par la distance focale mesurée expérimentalement.\n",
    "Delta = <valeur>                            # Remplacer <valeur> par la précision estimée expérimentalement.\n",
    "\n",
    "N = <valeur>                                # Remplacer <valeur>.\n",
    "\n",
    "distance_focale = np.random.uniform(<bas>, <haut>, N)   # Simule (dans un tableau) N valeurs de la distance focale. Remplacer <bas> et <haut>."
   ]
  },
  {
   "cell_type": "markdown",
   "id": "b35e4aa8",
   "metadata": {},
   "source": [
    "On affiche sur un histogramme les simulations effectués. "
   ]
  },
  {
   "cell_type": "code",
   "execution_count": null,
   "id": "a3ea503b",
   "metadata": {},
   "outputs": [],
   "source": [
    "plt.hist(distance_focale,bins='rice')\n",
    "plt.xlabel('Distance focale')\n",
    "plt.ylabel('Nombre de simulations')\n",
    "plt.show()"
   ]
  },
  {
   "cell_type": "markdown",
   "id": "c6bd9775",
   "metadata": {},
   "source": [
    "> Il reste à calculer l'inceritude-type sur la valeur de f' mesurée expérimentalement en calculant l'écart-type des N valeurs simulées."
   ]
  },
  {
   "cell_type": "code",
   "execution_count": null,
   "id": "714f2843",
   "metadata": {},
   "outputs": [],
   "source": [
    "u_distance_focale = <expression>    # Remplacer <expression>.\n",
    "print(\"L'incertitude-type sur la distance focale f' vaut:\", u_distance_focale, \"unité.\")   # Affiche l'incertitude-type. Remplacer <unité>."
   ]
  },
  {
   "cell_type": "markdown",
   "id": "5041cf4c",
   "metadata": {},
   "source": [
    "> Comparer votre résultat avec la formule $\\Delta/\\sqrt{3}$"
   ]
  },
  {
   "cell_type": "code",
   "execution_count": null,
   "id": "7504dff7",
   "metadata": {},
   "outputs": [],
   "source": [
    "print(<expression>) #Remplacer <expression>"
   ]
  },
  {
   "cell_type": "markdown",
   "id": "c315faed",
   "metadata": {},
   "source": [
    "## Vérification de la relation de conjugaison"
   ]
  },
  {
   "cell_type": "markdown",
   "id": "8e932bac",
   "metadata": {},
   "source": [
    "> Entrer les différentes valeurs des positions relevées"
   ]
  },
  {
   "cell_type": "code",
   "execution_count": null,
   "id": "2d42eaac",
   "metadata": {},
   "outputs": [],
   "source": [
    "xA =  # Position xA\n",
    "xAp = # Position xA'\n",
    "xO =  # Position xO"
   ]
  },
  {
   "cell_type": "markdown",
   "id": "0a12d5c8",
   "metadata": {},
   "source": [
    "> Entrer les formules permettant de calculer $\\overline{OA}$ et $\\overline{OA'}$. Pour finir rentrer la formule permettant de calculer $f'$"
   ]
  },
  {
   "cell_type": "code",
   "execution_count": null,
   "id": "9b4c86e5",
   "metadata": {},
   "outputs": [],
   "source": [
    "OA =\n",
    "OAp = \n",
    "f = "
   ]
  },
  {
   "cell_type": "markdown",
   "id": "5835e3cb",
   "metadata": {},
   "source": [
    "> Modifier le code dessus afin de prendre en compte plusieurs valeurs de xA, xAp et xO. Indication: il faut utiliser un tableau np.array([]) \n",
    "---\n",
    "> Calculer ensuite la valeur moyenne de f et l'incertitude-type associée f' et afficher le résultat."
   ]
  },
  {
   "cell_type": "code",
   "execution_count": null,
   "id": "082beb3f",
   "metadata": {},
   "outputs": [],
   "source": [
    "N = len(xA) # Nombre de mesures effectuées\n",
    "fmoy = \n",
    "u_f = "
   ]
  },
  {
   "cell_type": "markdown",
   "id": "73c7f606",
   "metadata": {},
   "source": [
    "On peut représenter les différentes valeurs de $f$ obtenue ainsi que la valeur moyenne $\\overline{f}$ sur un graphique. "
   ]
  },
  {
   "cell_type": "code",
   "execution_count": null,
   "id": "5b876d6e",
   "metadata": {},
   "outputs": [],
   "source": [
    "plt.plot(f, 'o') # représentation des valeurs obtenues\n",
    "plt.plot( (0,N),(f_moy,f_moy) ) # optionnel : tracé de droite représentant la valeur moyenne\n",
    "plt.xlabel(\"numéro de l'observation\") # légende sur l'axe des ordonnées\n",
    "plt.ylabel(\"f (cm)\") # légende sur l'axe des ordonnées\n",
    "plt.show() # affichage de la figure"
   ]
  }
 ],
 "metadata": {
  "kernelspec": {
   "display_name": "Python 3 (ipykernel)",
   "language": "python",
   "name": "python3"
  },
  "language_info": {
   "codemirror_mode": {
    "name": "ipython",
    "version": 3
   },
   "file_extension": ".py",
   "mimetype": "text/x-python",
   "name": "python",
   "nbconvert_exporter": "python",
   "pygments_lexer": "ipython3",
   "version": "3.10.7"
  }
 },
 "nbformat": 4,
 "nbformat_minor": 5
}
