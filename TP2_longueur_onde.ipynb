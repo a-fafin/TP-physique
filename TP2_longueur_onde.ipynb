{
 "cells": [
  {
   "cell_type": "markdown",
   "id": "de15dfab",
   "metadata": {},
   "source": [
    "# TP2: Mesure de longueur d'onde et visualisation du phénomène d'interférences"
   ]
  },
  {
   "cell_type": "markdown",
   "id": "e4d98517",
   "metadata": {},
   "source": [
    "Import des bibliothèque: numpy pour la gestion des tableaux/calculs et matplotlib pour les affichages graphiques"
   ]
  },
  {
   "cell_type": "code",
   "execution_count": null,
   "id": "dfcd7932",
   "metadata": {},
   "outputs": [],
   "source": [
    "import numpy as np\n",
    "import matplotlib.pyplot as plt"
   ]
  },
  {
   "cell_type": "markdown",
   "id": "6c510313",
   "metadata": {},
   "source": [
    "## 1) Mesure de longueur d'onde"
   ]
  },
  {
   "cell_type": "markdown",
   "id": "b27ba1dd",
   "metadata": {},
   "source": [
    ">Entrer les valeurs des positions des 2 récepteurs ainsi que les demi-intervalles de précision correspondant. \n",
    "\n",
    "**Attention**: Il est nécessaire de connaître précisement le nombre de longueur d'onde associée à la position des 2 détecteurs"
   ]
  },
  {
   "cell_type": "code",
   "execution_count": null,
   "id": "ba6e8d16",
   "metadata": {},
   "outputs": [],
   "source": [
    "x1 = 30\n",
    "x2 = 50\n",
    "Deltax1 = 3\n",
    "Deltax2 = 3"
   ]
  },
  {
   "cell_type": "markdown",
   "id": "82c030ec",
   "metadata": {},
   "source": [
    "On simule ensuite $N$ tirages aléatoires dans l'intervalle $x_1-\\Delta x_1$ et $x_1+\\Delta x_1$ pour $x_1$ et $x_2-\\Delta x_2$ et $x_2+\\Delta x_2$ pour $x_2$.\n",
    "\n",
    "On calcul ensuite $d=x_2-x_1$"
   ]
  },
  {
   "cell_type": "code",
   "execution_count": null,
   "id": "1c5d0cbb",
   "metadata": {},
   "outputs": [],
   "source": [
    "N = 10000\n",
    "\n",
    "x1_MC = np.random.uniform(x1-Deltax1,x1+Deltax1,N)\n",
    "x2_MC = np.random.uniform(x2-Deltax2,x2+Deltax2,N)\n",
    "\n",
    "d = x2_MC - x1_MC"
   ]
  },
  {
   "cell_type": "markdown",
   "id": "c8f7495b",
   "metadata": {},
   "source": [
    "**Tracé graphique**"
   ]
  },
  {
   "cell_type": "code",
   "execution_count": null,
   "id": "d346d094",
   "metadata": {},
   "outputs": [],
   "source": [
    "plt.figure(1)\n",
    "plt.hist(x1_MC,label='x1', bins='rice', histtype = 'step')\n",
    "plt.hist(x2_MC,label='x2', bins='rice', histtype = 'step')\n",
    "plt.legend()\n",
    "\n",
    "plt.figure(2)\n",
    "plt.hist(d,label='d=x2-x1', bins='rice', histtype = 'step')\n",
    "plt.legend()\n",
    "\n",
    "plt.show()"
   ]
  },
  {
   "cell_type": "code",
   "execution_count": null,
   "id": "fbfc9599",
   "metadata": {},
   "outputs": [],
   "source": [
    "# Calcul et affichage moyenne et écart type\n",
    "\n",
    "dmoy = np.mean(d)\n",
    "u_d = np.std(d,ddof=1)\n",
    "\n",
    "print('Moyenne =', dmoy)\n",
    "print('Ecart type =', u_d)"
   ]
  },
  {
   "cell_type": "markdown",
   "id": "1fc1f58a",
   "metadata": {},
   "source": [
    ">Entrer ci-dessous la fonction permettant de calculer la longueur d'onde $\\lambda$ et son incertitude associée et afficher les valeurs"
   ]
  },
  {
   "cell_type": "code",
   "execution_count": null,
   "id": "81e4326e",
   "metadata": {},
   "outputs": [],
   "source": [
    "lam = \n",
    "u_lam = "
   ]
  },
  {
   "cell_type": "code",
   "execution_count": null,
   "id": "463b95e1",
   "metadata": {},
   "outputs": [],
   "source": []
  }
 ],
 "metadata": {
  "kernelspec": {
   "display_name": "Python 3",
   "language": "python",
   "name": "python3"
  },
  "language_info": {
   "codemirror_mode": {
    "name": "ipython",
    "version": 3
   },
   "file_extension": ".py",
   "mimetype": "text/x-python",
   "name": "python",
   "nbconvert_exporter": "python",
   "pygments_lexer": "ipython3",
   "version": "3.9.7"
  }
 },
 "nbformat": 4,
 "nbformat_minor": 5
}
