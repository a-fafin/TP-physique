{
 "cells": [
  {
   "cell_type": "markdown",
   "id": "95e9f8d9",
   "metadata": {},
   "source": [
    "# TP9: Circuit RC"
   ]
  },
  {
   "cell_type": "markdown",
   "id": "f601c769",
   "metadata": {},
   "source": [
    "Import des bibliothèque: numpy pour la gestion des tableaux/calculs et matplotlib pour les affichages graphiques"
   ]
  },
  {
   "cell_type": "code",
   "execution_count": null,
   "id": "4567fbed",
   "metadata": {},
   "outputs": [],
   "source": [
    "import numpy as np                      # pour le traitement vectoriel des données\n",
    "import matplotlib.pyplot as plt         # pour les graphiques"
   ]
  },
  {
   "cell_type": "markdown",
   "id": "44fd32c5",
   "metadata": {},
   "source": [
    "Entrer les différentes valeurs de $\\tau$ et $R$"
   ]
  },
  {
   "cell_type": "code",
   "execution_count": null,
   "id": "91f78084",
   "metadata": {},
   "outputs": [],
   "source": [
    "tau = np.array([]) #Compléter avec les valeurs de tau trouvées\n",
    "R = np.array([]) #Compléter avec les mesures de R"
   ]
  },
  {
   "cell_type": "markdown",
   "id": "82bfb6e1",
   "metadata": {},
   "source": [
    "## Représentation graphique"
   ]
  },
  {
   "cell_type": "code",
   "execution_count": null,
   "id": "aea38e1a",
   "metadata": {},
   "outputs": [],
   "source": [
    "# A COMPLETER: Remplacer X et Y et donner un nom aux axes\n",
    "plt.plot(X,Y,'o') # représentation des valeurs obtenues\n",
    "plt.xlabel(\"\") # légende sur l'axe des abscisses\n",
    "plt.ylabel(\"\") # légende sur l'axe des ordonnées\n",
    "plt.show() # affichage de la figure"
   ]
  },
  {
   "cell_type": "markdown",
   "id": "cd12da64",
   "metadata": {},
   "source": [
    "## Régression linéaire"
   ]
  },
  {
   "cell_type": "code",
   "execution_count": null,
   "id": "6cbf33da",
   "metadata": {},
   "outputs": [],
   "source": [
    "# Régression linéaire\n",
    "(a,b) = np.polyfit(R,tau,1)\n",
    "\n",
    "#Représentation graphique\n",
    "plt.plot(R,tau,'o') # Tracé des points expérimentaux\n",
    "plt.plot(R,a*R+b, 'b:', label='Modèle affine')\n",
    "plt.show()"
   ]
  },
  {
   "cell_type": "markdown",
   "id": "df17a905",
   "metadata": {},
   "source": [
    "## Conclusion?"
   ]
  },
  {
   "cell_type": "code",
   "execution_count": null,
   "id": "a1006871",
   "metadata": {},
   "outputs": [],
   "source": []
  }
 ],
 "metadata": {
  "kernelspec": {
   "display_name": "Python 3 (ipykernel)",
   "language": "python",
   "name": "python3"
  },
  "language_info": {
   "codemirror_mode": {
    "name": "ipython",
    "version": 3
   },
   "file_extension": ".py",
   "mimetype": "text/x-python",
   "name": "python",
   "nbconvert_exporter": "python",
   "pygments_lexer": "ipython3",
   "version": "3.9.9"
  }
 },
 "nbformat": 4,
 "nbformat_minor": 5
}
