{
 "cells": [
  {
   "cell_type": "markdown",
   "id": "de15dfab",
   "metadata": {},
   "source": [
    "# TP3: Mesure de longueur d'onde et visualisation du phénomène d'interférences"
   ]
  },
  {
   "cell_type": "markdown",
   "id": "e4d98517",
   "metadata": {},
   "source": [
    "Import des bibliothèque: numpy pour la gestion des tableaux/calculs et matplotlib pour les affichages graphiques"
   ]
  },
  {
   "cell_type": "code",
   "execution_count": null,
   "id": "dfcd7932",
   "metadata": {},
   "outputs": [],
   "source": [
    "import numpy as np                      # pour le traitement vectoriel des données\n",
    "import numpy.random as rd               # pour les tirages aléatoires\n",
    "import matplotlib.pyplot as plt         # pour les graphiques"
   ]
  },
  {
   "cell_type": "markdown",
   "id": "6c510313",
   "metadata": {},
   "source": [
    "## 1) Mesure de longueur d'onde"
   ]
  },
  {
   "cell_type": "markdown",
   "id": "b27ba1dd",
   "metadata": {},
   "source": [
    ">Entrer les valeurs des positions des 2 récepteurs ainsi que les demi-intervalles de précision correspondant. \n",
    "\n",
    "**Attention**: Il est nécessaire de connaître précisement le nombre de longueur d'onde associée à la position des 2 détecteurs"
   ]
  },
  {
   "cell_type": "code",
   "execution_count": null,
   "id": "ba6e8d16",
   "metadata": {},
   "outputs": [],
   "source": [
    "x1 = \n",
    "x2 = \n",
    "Deltax1 = \n",
    "Deltax2 = "
   ]
  },
  {
   "cell_type": "markdown",
   "id": "82c030ec",
   "metadata": {},
   "source": [
    "On simule ensuite $N$ tirages aléatoires dans l'intervalle $x_1-\\Delta x_1$ et $x_1+\\Delta x_1$ pour $x_1$ et $x_2-\\Delta x_2$ et $x_2+\\Delta x_2$ pour $x_2$.\n",
    "\n",
    "On calcul ensuite $d=x_2-x_1$"
   ]
  },
  {
   "cell_type": "code",
   "execution_count": null,
   "id": "1c5d0cbb",
   "metadata": {},
   "outputs": [],
   "source": [
    "N = 10000  # Choix du nombre de tirages aléatoires\n",
    "\n",
    "x1_MC = x1 + Deltax1 * rd.uniform(-1,1,N)\n",
    "x2_MC = x2 + Deltax2 * rd.uniform(-1,1,N)\n",
    "\n",
    "d = x2_MC - x1_MC"
   ]
  },
  {
   "cell_type": "markdown",
   "id": "c8f7495b",
   "metadata": {},
   "source": [
    "**Tracé graphique**"
   ]
  },
  {
   "cell_type": "markdown",
   "id": "e032a9af",
   "metadata": {},
   "source": [
    "Tracé des histogrammes de $x_1$ et $x_2$"
   ]
  },
  {
   "cell_type": "code",
   "execution_count": null,
   "id": "d346d094",
   "metadata": {},
   "outputs": [],
   "source": [
    "plt.figure(1)\n",
    "plt.hist(x1_MC,label='x1', bins='rice', histtype = 'step')\n",
    "plt.hist(x2_MC,label='x2', bins='rice', histtype = 'step')\n",
    "plt.legend()\n",
    "plt.show()"
   ]
  },
  {
   "cell_type": "markdown",
   "id": "4d5c6418",
   "metadata": {},
   "source": [
    "Tracé de l'histogramme de $d = x_2 - x_1$"
   ]
  },
  {
   "cell_type": "code",
   "execution_count": null,
   "id": "8743ab4c",
   "metadata": {},
   "outputs": [],
   "source": [
    "plt.figure(2)\n",
    "## A compléter\n",
    "plt.hist(d,label='d=x2-x1', bins='rice', histtype = 'step')\n",
    "plt.legend()\n",
    "plt.show()"
   ]
  },
  {
   "cell_type": "markdown",
   "id": "c11355e4",
   "metadata": {},
   "source": [
    ">Entrer ci-dessous les fonctions permettant de calculer la valeur moyenne de $d$ et l'écart-type $u(d)$"
   ]
  },
  {
   "cell_type": "code",
   "execution_count": null,
   "id": "fbfc9599",
   "metadata": {},
   "outputs": [],
   "source": [
    "# Calcul et affichage moyenne et écart type\n",
    "\n",
    "dmoy = \n",
    "u_d = \n",
    "\n",
    "print('Moyenne =', dmoy)\n",
    "print('Ecart type =', u_d)"
   ]
  },
  {
   "cell_type": "markdown",
   "id": "1fc1f58a",
   "metadata": {},
   "source": [
    ">Entrer ci-dessous la fonction permettant de calculer la longueur d'onde $\\lambda$ et son incertitude associée et afficher les valeurs"
   ]
  },
  {
   "cell_type": "code",
   "execution_count": null,
   "id": "81e4326e",
   "metadata": {},
   "outputs": [],
   "source": [
    "lam = \n",
    "u_lam = "
   ]
  },
  {
   "cell_type": "code",
   "execution_count": null,
   "id": "463b95e1",
   "metadata": {},
   "outputs": [],
   "source": []
  }
 ],
 "metadata": {
  "kernelspec": {
   "display_name": "Python 3",
   "language": "python",
   "name": "python3"
  },
  "language_info": {
   "codemirror_mode": {
    "name": "ipython",
    "version": 3
   },
   "file_extension": ".py",
   "mimetype": "text/x-python",
   "name": "python",
   "nbconvert_exporter": "python",
   "pygments_lexer": "ipython3",
   "version": "3.9.7"
  }
 },
 "nbformat": 4,
 "nbformat_minor": 5
}
