{
 "cells": [
  {
   "cell_type": "markdown",
   "id": "910dc16c",
   "metadata": {},
   "source": [
    "# Présentation de la méthode d'Euler"
   ]
  },
  {
   "cell_type": "markdown",
   "id": "7589dafd",
   "metadata": {},
   "source": [
    "Import des bibliothèque: numpy pour la gestion des tableaux/calculs et matplotlib pour les affichages graphiques"
   ]
  },
  {
   "cell_type": "code",
   "execution_count": null,
   "id": "0f8b6488",
   "metadata": {},
   "outputs": [],
   "source": [
    "import numpy as np                      # pour le traitement vectoriel des données\n",
    "import matplotlib.pyplot as plt         # pour les graphiques"
   ]
  },
  {
   "cell_type": "markdown",
   "id": "194d5466",
   "metadata": {},
   "source": [
    "Définition des paramètres"
   ]
  },
  {
   "cell_type": "code",
   "execution_count": null,
   "id": "ca4d94f4",
   "metadata": {},
   "outputs": [],
   "source": [
    "R = 1.0e3\n",
    "C = 100e-6\n",
    "E = 10 #Tension du générateur\n",
    "# A COMPLETER\n",
    "tau = R*C\n",
    "u0 = 0      # Valeur initiale de la tension\n",
    "t0 = 0      # Temps initial. Ici 0\n",
    "tf = 5*tau  # Temps final\n",
    "dt = tau/50 # Pas de temps. A exprimer en fontion de tau pour plus de simpliciter"
   ]
  },
  {
   "cell_type": "markdown",
   "id": "2950c82d",
   "metadata": {},
   "source": [
    "# Version avec boucle for"
   ]
  },
  {
   "cell_type": "markdown",
   "id": "220ce8ab",
   "metadata": {},
   "source": [
    "## Implémentation de la méthode Euler"
   ]
  },
  {
   "cell_type": "markdown",
   "id": "db06a6e5",
   "metadata": {},
   "source": [
    "Ecrire les lignes qui permettent de calculer le nombre total d'itération $N$.\n",
    "\n",
    "Attention, $N$ doit être un entier \n",
    "\n",
    "Afficher ensuite ce nombre d'opérations."
   ]
  },
  {
   "cell_type": "code",
   "execution_count": null,
   "id": "2d773b97",
   "metadata": {},
   "outputs": [],
   "source": [
    "N = int(tf/dt)\n",
    "print(N)"
   ]
  },
  {
   "cell_type": "markdown",
   "id": "2ae360e7",
   "metadata": {},
   "source": [
    "On va ensuite créer les listes pour le $t$ et pour la tension $u$. On va se servir de la bibliothèque numpy pour créer ces listes. Ces listes contiennent $N$ valeurs, correspondant aux $N$ itérations"
   ]
  },
  {
   "cell_type": "code",
   "execution_count": null,
   "id": "c7efd2ba",
   "metadata": {},
   "outputs": [],
   "source": [
    "t = np.zeros(N)\n",
    "u = np.zeros(N)"
   ]
  },
  {
   "cell_type": "markdown",
   "id": "eb8d830c",
   "metadata": {},
   "source": [
    "Pour l'instant la liste $t$ et $u$ contiennent que des zeros. On peut le vérifier facilement "
   ]
  },
  {
   "cell_type": "code",
   "execution_count": null,
   "id": "3ce6f2da",
   "metadata": {},
   "outputs": [],
   "source": [
    "print(t)\n",
    "print(u)"
   ]
  },
  {
   "cell_type": "markdown",
   "id": "a7c75a3d",
   "metadata": {},
   "source": [
    "Il faut maintenant initialiser la première valeur de ces listes. A vous d'écrire le code qui permet de faire cela. Ce qu'il faut rentrer ici ce sont les conditions initiales."
   ]
  },
  {
   "cell_type": "code",
   "execution_count": null,
   "id": "9c56b75c",
   "metadata": {},
   "outputs": [],
   "source": [
    "# A COMPLETER\n",
    "u[0] = u0\n",
    "t[0] = t0"
   ]
  },
  {
   "cell_type": "markdown",
   "id": "4498b8bb",
   "metadata": {},
   "source": [
    "---"
   ]
  },
  {
   "cell_type": "markdown",
   "id": "51cab06f",
   "metadata": {},
   "source": [
    "Ensuite il faut calculer les valeurs suivantes de la tension et du temps. Pour cela on peut utiliser une boucle **for**. \n",
    "\n",
    "Une boucle for sert à répéter un bloc de code plusieurs fois. Par exemple, on va afficher les 5 premiers entiers. "
   ]
  },
  {
   "cell_type": "code",
   "execution_count": null,
   "id": "7dc694cf",
   "metadata": {},
   "outputs": [],
   "source": [
    "for i in range (5):  # i vaut successivement 0 puis 1, puis 2 ... 4\n",
    "    print(i) # Affiche la valeur de i"
   ]
  },
  {
   "cell_type": "markdown",
   "id": "5aa8b346",
   "metadata": {},
   "source": [
    "---"
   ]
  },
  {
   "cell_type": "markdown",
   "id": "5f85a99c",
   "metadata": {},
   "source": [
    "A vous de créer une boucle **for** permettant de calculer les valeurs suivantes des tensions et du temps. \n",
    "\n",
    "Comme les liste $u$ et $t$ contiennent $N$ valeurs il faut que la boucle for s'execute $N-1$ fois afin de permettre le calcul de la valeur $u(N)$ et $t(N)$."
   ]
  },
  {
   "cell_type": "code",
   "execution_count": null,
   "id": "f782a04f",
   "metadata": {},
   "outputs": [],
   "source": [
    "# A COMPLETER\n",
    "for i in range (N-1): \n",
    "    u[i+1] = u[i] + dt*(-u[i]/tau + E/tau)\n",
    "    t[i+1] = t[i] + dt"
   ]
  },
  {
   "cell_type": "markdown",
   "id": "db8e6d11",
   "metadata": {},
   "source": [
    "On va maintenant afficher la solution. Pour cela on utilise la bibliothèque matplotlib.pyplot que l'on appelle plt. \n",
    "\n",
    "La fonction pour tracer un graphique est donc **plt.plot(x,y)** où x et y sont 2 tableaux contenant le même nombre d'éléments. \n",
    "\n",
    "Si l'on souhaite ajouter le nom des axes il faut utiliser: \n",
    "- plt.xlabel('Nom de l'axe')\n",
    "- plt.ylabel('Nom de l'axe')\n",
    "\n",
    "Enfin pour afficher la figure il faut terminer par **plt.show()**"
   ]
  },
  {
   "cell_type": "code",
   "execution_count": null,
   "id": "173e2d2d",
   "metadata": {},
   "outputs": [],
   "source": [
    "#A COMPLETER\n",
    "plt.plot(t,u)\n",
    "plt.xlabel('Temps (en s)')\n",
    "plt.ylabel('Tension $u$ (en V)')\n",
    "plt.show()"
   ]
  },
  {
   "cell_type": "markdown",
   "id": "51743b9c",
   "metadata": {},
   "source": [
    "## Vérification "
   ]
  },
  {
   "cell_type": "markdown",
   "id": "cd1c1564",
   "metadata": {},
   "source": [
    "On connait la solution théorique à l'équation différentielle précédente: \n",
    "$$ u_\\text{th} = (u_0 - E)e^{-t/\\tau} + E $$\n",
    "\n",
    "Créer la fonction $uth$ afin de comparer la solution exacte à la solution numérique. "
   ]
  },
  {
   "cell_type": "code",
   "execution_count": null,
   "id": "0ecbb6be",
   "metadata": {},
   "outputs": [],
   "source": [
    "#A COMPLETER\n",
    "uth = (u0-E)*np.exp(-t/tau) + E"
   ]
  },
  {
   "cell_type": "markdown",
   "id": "5160ecd7",
   "metadata": {},
   "source": [
    "Ensuite afficher un graphique avec la solution analytique et la solution numérique. \n",
    "\n",
    "Faire en sorte que la solution numérique soit représentée avec des points et non des lignes. Pour cela il faut rajouter le paramètre 'o' a la fonction plt.plot.\n",
    "\n",
    "Si vous avez le temps vous pouvez changer le pas de temps $dt$ afin de voir l'influence de celui-ci sur la solution numérique. Vous pouvez prendre $dt=\\tau/2$ et $dt=\\tau$... Que constatez-vous?"
   ]
  },
  {
   "cell_type": "code",
   "execution_count": null,
   "id": "bcf9fb48",
   "metadata": {},
   "outputs": [],
   "source": [
    "#A COMPLETER\n",
    "plt.plot(t,u,'o',label='Solution numérique')\n",
    "plt.plot(t,uth,label='Solution théorique')\n",
    "plt.xlabel('Temps (en s)')\n",
    "plt.ylabel('Tension $u$ (en V)')\n",
    "plt.legend()\n",
    "plt.show()"
   ]
  },
  {
   "cell_type": "markdown",
   "id": "602c4f37",
   "metadata": {},
   "source": [
    "## Charge du condensateur avec une tension variable"
   ]
  },
  {
   "cell_type": "code",
   "execution_count": null,
   "id": "25667638",
   "metadata": {},
   "outputs": [],
   "source": [
    "#A COMPLETER\n",
    "E0 = 10\n",
    "omega = 100\n",
    "E = np.zeros(N)\n",
    "for i in range (N-1): \n",
    "    E[i] = E0*np.cos(omega*t[i])\n",
    "    u[i+1] = u[i] + dt*(-u[i]/tau + E[i]/tau)\n",
    "    t[i+1] = t[i] + dt\n",
    "\n",
    "\n",
    "plt.plot(t,u,label='Tension u')\n",
    "plt.plot(t,E,label='Tension E')\n",
    "plt.xlabel('Temps (en s)')\n",
    "plt.ylabel('Tension $u$ (en V)')\n",
    "plt.legend()\n",
    "plt.show()"
   ]
  },
  {
   "cell_type": "markdown",
   "id": "04716470",
   "metadata": {},
   "source": [
    "# Version avec fonction"
   ]
  },
  {
   "cell_type": "code",
   "execution_count": null,
   "id": "33909880",
   "metadata": {},
   "outputs": [],
   "source": [
    "R = 1.0e3\n",
    "C = 100e-6\n",
    "E = 10 #Tension du générateur\n",
    "# A COMPLETER\n",
    "tau = R*C\n",
    "u0 = 0      # Valeur initiale de la tension\n",
    "t0 = 0      # Temps initial. Ici 0\n",
    "tf = 5*tau  # Temps final\n",
    "dt = tau/50 # Pas de temps. A exprimer en fontion de tau pour plus de simpliciter"
   ]
  },
  {
   "cell_type": "markdown",
   "id": "32eaeab1",
   "metadata": {},
   "source": [
    "Définir la fonction f(u,t)"
   ]
  },
  {
   "cell_type": "code",
   "execution_count": null,
   "id": "0aefaa69",
   "metadata": {},
   "outputs": [],
   "source": [
    "def f(u):\n",
    "    return -u/tau+E/tau"
   ]
  },
  {
   "cell_type": "markdown",
   "id": "002e9d93",
   "metadata": {},
   "source": [
    "Définition de la fonction euler. Les paramètres d'entrées de cette fonction sont: \n",
    "- La fonction $f$\n",
    "- La valeur initial de la fonction $y$: $y_0$ \n",
    "- Le temps initial $t_0$\n",
    "- Le temps final $t_f$\n",
    "- Le pas de temps $dt$ entre 2 itérations"
   ]
  },
  {
   "cell_type": "code",
   "execution_count": null,
   "id": "db10a812",
   "metadata": {},
   "outputs": [],
   "source": [
    "def euler_ordre1 (f,y0,t0,tf,dt):\n",
    "    N = int(tf/dt) # Calcul du nombre total d'itérations\n",
    "    t = np.zeros(N) # Création de la liste t\n",
    "    y = np.zeros(N) # Création de la liste y\n",
    "    y[0] = y0\n",
    "    t[0] = 0.0\n",
    "\n",
    "    # Boucle permettant le calcul des y(ti)\n",
    "    for i in range (N-1):\n",
    "      y[i+1] = y[i] + dt*f(y[i])\n",
    "      t[i+1] = t[i] + dt \n",
    "    \n",
    "    return t, y"
   ]
  },
  {
   "cell_type": "code",
   "execution_count": null,
   "id": "2d4c135f",
   "metadata": {},
   "outputs": [],
   "source": [
    "t,u= euler_ordre1(f,u0,0,tf,dt) "
   ]
  },
  {
   "cell_type": "code",
   "execution_count": null,
   "id": "17c0aa6a",
   "metadata": {},
   "outputs": [],
   "source": [
    "plt.plot(t,u)\n",
    "plt.show()"
   ]
  },
  {
   "cell_type": "code",
   "execution_count": null,
   "id": "385c25a0",
   "metadata": {},
   "outputs": [],
   "source": []
  }
 ],
 "metadata": {
  "kernelspec": {
   "display_name": "Python 3 (ipykernel)",
   "language": "python",
   "name": "python3"
  },
  "language_info": {
   "codemirror_mode": {
    "name": "ipython",
    "version": 3
   },
   "file_extension": ".py",
   "mimetype": "text/x-python",
   "name": "python",
   "nbconvert_exporter": "python",
   "pygments_lexer": "ipython3",
   "version": "3.9.9"
  }
 },
 "nbformat": 4,
 "nbformat_minor": 5
}
