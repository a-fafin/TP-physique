{
 "cells": [
  {
   "cell_type": "markdown",
   "metadata": {},
   "source": [
    "# TP1: Mesure de la célérité du son"
   ]
  },
  {
   "cell_type": "markdown",
   "metadata": {},
   "source": [
    "Import des bibliothèque: numpy pour la gestion des tableaux/calculs et matplotlib pour les affichages graphiques"
   ]
  },
  {
   "cell_type": "code",
   "execution_count": null,
   "metadata": {},
   "outputs": [],
   "source": [
    "import numpy as np\n",
    "import matplotlib.pyplot as plt"
   ]
  },
  {
   "cell_type": "markdown",
   "metadata": {},
   "source": [
    "# 1) Mesure de la célérité du son dans l'air à l'aide d'ondes progressives"
   ]
  },
  {
   "cell_type": "markdown",
   "metadata": {},
   "source": [
    ">**Insérer les résultats de votre mesure de la distance $d$ et du temps $t$ ci-dessous.**\n",
    "\n",
    "On utilise un tableau (np.array), 1ère valeur de d et de t doivent correspondre à la même mesure, puis la 2ème... Si n'êtes pas obligé de remplir le tableau par ordre croissant. Chaque valeur doit être séparée par une virgule."
   ]
  },
  {
   "cell_type": "code",
   "execution_count": null,
   "metadata": {},
   "outputs": [],
   "source": [
    "d = np.array([]) # d en m"
   ]
  },
  {
   "cell_type": "code",
   "execution_count": null,
   "metadata": {},
   "outputs": [],
   "source": [
    "t = np.array([]) # t en s"
   ]
  },
  {
   "cell_type": "markdown",
   "metadata": {},
   "source": [
    ">**Inscrire la formule permettant de calculer $c$**"
   ]
  },
  {
   "cell_type": "code",
   "execution_count": null,
   "metadata": {},
   "outputs": [],
   "source": [
    "c = "
   ]
  },
  {
   "cell_type": "markdown",
   "metadata": {},
   "source": [
    ">**Ecrire la fonction qui permet d'afficher les différentes valeurs de c**"
   ]
  },
  {
   "cell_type": "code",
   "execution_count": null,
   "metadata": {},
   "outputs": [],
   "source": []
  },
  {
   "cell_type": "markdown",
   "metadata": {},
   "source": [
    "Tracé de l'histogramme de distribution des vitesses"
   ]
  },
  {
   "cell_type": "code",
   "execution_count": null,
   "metadata": {},
   "outputs": [],
   "source": [
    "plt.clf()\n",
    "plt.hist(c, bins='rice', histtype = 'step')\n",
    "plt.show()"
   ]
  },
  {
   "cell_type": "markdown",
   "metadata": {},
   "source": [
    "Calcul de la valeur moyenne. On utilise pour cela la fonction mean qui renvoie la valeur moyenne d'un ensemble de donnée"
   ]
  },
  {
   "cell_type": "code",
   "execution_count": null,
   "metadata": {},
   "outputs": [],
   "source": [
    "cmoy = np.mean(c)\n",
    "print('Valeur moyenne =', cmoy)"
   ]
  },
  {
   "cell_type": "markdown",
   "metadata": {},
   "source": [
    "Calcul de l'incertitude-type"
   ]
  },
  {
   "cell_type": "markdown",
   "metadata": {},
   "source": [
    ">**Ecrire la fonction qui permet de calculer l'incertitude sur c.**\n",
    "\n",
    ">L'écart-type se calcul en python avec la formule np.std(c,ddof=1). Attention ici l'incertitude n'est pas exactement l'écart-type. "
   ]
  },
  {
   "cell_type": "code",
   "execution_count": null,
   "metadata": {},
   "outputs": [],
   "source": [
    "u_c = np.std(c,ddof=1)/np.sqrt(N)\n",
    "print('Incertitude type =', std)"
   ]
  },
  {
   "cell_type": "markdown",
   "metadata": {},
   "source": [
    "**Ecrire sur votre feuille la valeur de c ainsi que l'incertitude-type**"
   ]
  },
  {
   "cell_type": "markdown",
   "metadata": {},
   "source": [
    "# 2) Mesure de la température de la pièce et comparaison avec une grandeur tabulée"
   ]
  },
  {
   "cell_type": "markdown",
   "metadata": {},
   "source": [
    "## Variabilité de c"
   ]
  },
  {
   "cell_type": "markdown",
   "metadata": {},
   "source": [
    ">Inscrire la valeur min et max de c due à la variation de la température"
   ]
  },
  {
   "cell_type": "code",
   "execution_count": null,
   "metadata": {},
   "outputs": [],
   "source": [
    "cmin = 310\n",
    "cmax = 330"
   ]
  },
  {
   "cell_type": "markdown",
   "metadata": {},
   "source": [
    "**Simulation monte-carlo**: On simule les valeurs possibles pour la température compte-tenu de la précision du thermomètre. Pour cela on effectue un tirage aléatoire (np.random.uniform) entre les 2 valeurs de célérité extrémales possibles compte-tenu de la précision du thermomètre. Vous pouvez essayer de modifier le nombre de simulations $N$ pour voir l'influence sur l'écart-type. Ce qui est affiché est l'histogramme des valeurs de c obtenues grâce à la température. "
   ]
  },
  {
   "cell_type": "code",
   "execution_count": null,
   "metadata": {},
   "outputs": [],
   "source": [
    "# Nombre de simulation de vitesse (ne pas dépasser 1 000 000)\n",
    "\n",
    "N = 1000\n",
    "\n",
    "# Simulation des vitesses\n",
    "# ctab est une liste de N éléments compris aléatoirement \n",
    "# entre cmin et cmax par une distribution uniforme\n",
    "ctab = np.random.uniform(cmin,cmax,N)\n",
    "\n",
    "# Tracé histogramme\n",
    "plt.clf()\n",
    "plt.hist(ctab, bins='auto', histtype = 'step')\n",
    "plt.show()\n",
    "\n",
    "# Calcul de l'écart-type\n",
    "u_ctab = np.std(ctab,ddof=1)\n",
    "\n",
    "print('Ecart type =', u_ctab)"
   ]
  },
  {
   "cell_type": "markdown",
   "metadata": {},
   "source": [
    "## Calcul de l'écart normalisé"
   ]
  },
  {
   "cell_type": "markdown",
   "metadata": {},
   "source": [
    ">Inscrire ci-dessous la formule permettant de calculer l'écart normalisé. Conclure sur cette expérience."
   ]
  },
  {
   "cell_type": "code",
   "execution_count": null,
   "metadata": {},
   "outputs": [],
   "source": [
    "En = "
   ]
  },
  {
   "cell_type": "markdown",
   "metadata": {},
   "source": [
    "## Affichage des histogrammes (pour les plus rapides)"
   ]
  },
  {
   "cell_type": "markdown",
   "metadata": {},
   "source": [
    ">Inscrire la fonction permettant d'afficher l'histogramme des valeurs expérimentales c et des grandeurs tabulées ctab"
   ]
  },
  {
   "cell_type": "code",
   "execution_count": null,
   "metadata": {},
   "outputs": [],
   "source": []
  }
 ],
 "metadata": {
  "kernelspec": {
   "display_name": "Python 3",
   "language": "python",
   "name": "python3"
  },
  "language_info": {
   "codemirror_mode": {
    "name": "ipython",
    "version": 3
   },
   "file_extension": ".py",
   "mimetype": "text/x-python",
   "name": "python",
   "nbconvert_exporter": "python",
   "pygments_lexer": "ipython3",
   "version": "3.9.7"
  }
 },
 "nbformat": 4,
 "nbformat_minor": 2
}
