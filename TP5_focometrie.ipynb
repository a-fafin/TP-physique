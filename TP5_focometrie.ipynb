{
 "cells": [
  {
   "cell_type": "markdown",
   "id": "377273d7",
   "metadata": {},
   "source": [
    "# TP 5: Lentilles minces et focométrie"
   ]
  },
  {
   "cell_type": "markdown",
   "id": "c30bb908",
   "metadata": {},
   "source": [
    "Import des bibliothèque: numpy pour la gestion des tableaux/calculs et matplotlib pour les affichages graphiques"
   ]
  },
  {
   "cell_type": "code",
   "execution_count": null,
   "id": "4728157a",
   "metadata": {},
   "outputs": [],
   "source": [
    "import numpy as np                      # pour le traitement vectoriel des données\n",
    "import matplotlib.pyplot as plt         # pour les graphiques"
   ]
  },
  {
   "cell_type": "markdown",
   "id": "ba8e66da",
   "metadata": {},
   "source": [
    "> Entrer les différentes valeurs des positions relevées"
   ]
  },
  {
   "cell_type": "code",
   "execution_count": null,
   "id": "1270d91a",
   "metadata": {},
   "outputs": [],
   "source": [
    "xA =  # Position xA\n",
    "xAp = # Position xA'\n",
    "xO =  # Position xO"
   ]
  },
  {
   "cell_type": "markdown",
   "id": "7297bca6",
   "metadata": {},
   "source": [
    "> Entrer les formules permettant de calculer $\\overline{OA}$ et $\\overline{OA'}$. Pour finir rentrer la formule permettant de calculer $f'$"
   ]
  },
  {
   "cell_type": "code",
   "execution_count": null,
   "id": "c4d78fee",
   "metadata": {},
   "outputs": [],
   "source": [
    "OA =\n",
    "OAp = \n",
    "f = "
   ]
  },
  {
   "cell_type": "markdown",
   "id": "ee695831",
   "metadata": {},
   "source": [
    "> Modifier le code dessus afin de prendre en compte plusieurs valeurs de xA, xAp et xO. \n",
    "---\n",
    "> Calculer ensuite la valeur moyenne de f et l'incertitude-type associée f' et afficher le résultat."
   ]
  },
  {
   "cell_type": "code",
   "execution_count": null,
   "id": "2dd14734",
   "metadata": {},
   "outputs": [],
   "source": [
    "N = len(xA) # Nombre de mesures effectuées\n",
    "fmoy = \n",
    "u_f = "
   ]
  },
  {
   "cell_type": "markdown",
   "id": "ecbfc3cc",
   "metadata": {},
   "source": [
    "On peut représenter les différentes valeurs de $f$ obtenue ainsi que la valeur moyenne $\\overline{f}$ sur un graphique. "
   ]
  },
  {
   "cell_type": "code",
   "execution_count": null,
   "id": "827bccb7",
   "metadata": {},
   "outputs": [],
   "source": [
    "plt.plot(f, 'o') # représentation des valeurs obtenues\n",
    "plt.plot( (0,N),(f_moy,f_moy) ) # optionnel : tracé de droite représentant la valeur moyenne\n",
    "plt.xlabel(\"numéro de l'observation\") # légende sur l'axe des ordonnées\n",
    "plt.ylabel(\"f (cm)\") # légende sur l'axe des ordonnées\n",
    "plt.show() # affichage de la figure"
   ]
  }
 ],
 "metadata": {
  "kernelspec": {
   "display_name": "Python 3",
   "language": "python",
   "name": "python3"
  },
  "language_info": {
   "codemirror_mode": {
    "name": "ipython",
    "version": 3
   },
   "file_extension": ".py",
   "mimetype": "text/x-python",
   "name": "python",
   "nbconvert_exporter": "python",
   "pygments_lexer": "ipython3",
   "version": "3.9.7"
  }
 },
 "nbformat": 4,
 "nbformat_minor": 5
}
