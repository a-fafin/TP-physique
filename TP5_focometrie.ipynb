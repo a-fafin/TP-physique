{
 "cells": [
  {
   "cell_type": "markdown",
   "id": "4a8f75cf",
   "metadata": {},
   "source": [
    "# TP 5: Lentilles minces et focométrie"
   ]
  },
  {
   "cell_type": "markdown",
   "id": "c484eb4a",
   "metadata": {},
   "source": [
    "Import des bibliothèque: numpy pour la gestion des tableaux/calculs et matplotlib pour les affichages graphiques"
   ]
  },
  {
   "cell_type": "code",
   "execution_count": null,
   "id": "b8c561f5",
   "metadata": {},
   "outputs": [],
   "source": [
    "import numpy as np                      # pour le traitement vectoriel des données\n",
    "import matplotlib.pyplot as plt         # pour les graphiques"
   ]
  },
  {
   "cell_type": "markdown",
   "id": "8e932bac",
   "metadata": {},
   "source": [
    "> Entrer les différentes valeurs des positions relevées"
   ]
  },
  {
   "cell_type": "code",
   "execution_count": null,
   "id": "2d42eaac",
   "metadata": {},
   "outputs": [],
   "source": [
    "xA =  # Position xA\n",
    "xAp = # Position xA'\n",
    "xO =  # Position xO"
   ]
  },
  {
   "cell_type": "markdown",
   "id": "0a12d5c8",
   "metadata": {},
   "source": [
    "> Entrer les formules permettant de calculer $\\overline{OA}$ et $\\overline{OA'}$. Pour finir rentrer la formule permettant de calculer $f'$"
   ]
  },
  {
   "cell_type": "code",
   "execution_count": null,
   "id": "9b4c86e5",
   "metadata": {},
   "outputs": [],
   "source": [
    "OA =\n",
    "OAp = \n",
    "f = "
   ]
  },
  {
   "cell_type": "markdown",
   "id": "5835e3cb",
   "metadata": {},
   "source": [
    "> Modifier le code dessus afin de prendre en compte plusieurs valeurs de xA, xAp et xO. Indication: il faut utiliser un tableau np.array([]) \n",
    "---\n",
    "> Calculer ensuite la valeur moyenne de f et l'incertitude-type associée f' et afficher le résultat."
   ]
  },
  {
   "cell_type": "code",
   "execution_count": null,
   "id": "082beb3f",
   "metadata": {},
   "outputs": [],
   "source": [
    "N = len(xA) # Nombre de mesures effectuées\n",
    "fmoy = \n",
    "u_f = "
   ]
  },
  {
   "cell_type": "markdown",
   "id": "73c7f606",
   "metadata": {},
   "source": [
    "On peut représenter les différentes valeurs de $f$ obtenue ainsi que la valeur moyenne $\\overline{f}$ sur un graphique. "
   ]
  },
  {
   "cell_type": "code",
   "execution_count": null,
   "id": "5b876d6e",
   "metadata": {},
   "outputs": [],
   "source": [
    "plt.plot(f, 'o') # représentation des valeurs obtenues\n",
    "plt.plot( (0,N),(f_moy,f_moy) ) # optionnel : tracé de droite représentant la valeur moyenne\n",
    "plt.xlabel(\"numéro de l'observation\") # légende sur l'axe des ordonnées\n",
    "plt.ylabel(\"f (cm)\") # légende sur l'axe des ordonnées\n",
    "plt.show() # affichage de la figure"
   ]
  }
 ],
 "metadata": {
  "kernelspec": {
   "display_name": "Python 3",
   "language": "python",
   "name": "python3"
  },
  "language_info": {
   "codemirror_mode": {
    "name": "ipython",
    "version": 3
   },
   "file_extension": ".py",
   "mimetype": "text/x-python",
   "name": "python",
   "nbconvert_exporter": "python",
   "pygments_lexer": "ipython3",
   "version": "3.9.7"
  }
 },
 "nbformat": 4,
 "nbformat_minor": 5
}
