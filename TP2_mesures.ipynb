{
 "cells": [
  {
   "cell_type": "markdown",
   "id": "fabafd3a",
   "metadata": {},
   "source": [
    "# TP 2: Mesures et incertitudes"
   ]
  },
  {
   "cell_type": "markdown",
   "id": "1af919e0",
   "metadata": {},
   "source": [
    "---"
   ]
  },
  {
   "cell_type": "markdown",
   "id": "a1efaaeb",
   "metadata": {},
   "source": [
    "## Pré-requis sur l'utilisation d'un notebook"
   ]
  },
  {
   "cell_type": "markdown",
   "id": "af67d2f0",
   "metadata": {},
   "source": [
    "Ceci est un fichier **notebook**. Il contient des cellules de text ou de code. Les cellules de code doivent être executée. Lorsqu'une cellule est executée, un numéro est indiqué entre les crochets"
   ]
  },
  {
   "cell_type": "markdown",
   "id": "c80a780d",
   "metadata": {},
   "source": [
    ">**Exemple: exécuter la cellule ci-dessous en cliquant sur `run` ou en appuyant sur `ctrl`+`entrée`.**"
   ]
  },
  {
   "cell_type": "code",
   "execution_count": null,
   "id": "87eaa1b2",
   "metadata": {},
   "outputs": [],
   "source": [
    "print(\"Bravo! La cellule est exécutée\")"
   ]
  },
  {
   "cell_type": "markdown",
   "id": "749109f2",
   "metadata": {},
   "source": [
    "En physique, on utilisera très souvent la bibliothèque **numpy** qui permet de faciliter les calculs avec les tableaux (array). \n",
    "\n",
    ">Exécuter la cellule ci-dessous afin de charger la bibliothèque numpy. L'utilisation de cette bibliothèque se fera à l'aide de la commande np"
   ]
  },
  {
   "cell_type": "code",
   "execution_count": null,
   "id": "3bf5b090",
   "metadata": {},
   "outputs": [],
   "source": [
    "import numpy as np"
   ]
  },
  {
   "cell_type": "markdown",
   "id": "757f1cbd",
   "metadata": {},
   "source": [
    "On peut maintenant créer un tableau. Prenons l'exemple d'un tableau qui contient les mesures d'une grandeur $T$. Pour créer ce tableau on utilise la commande np.array([]). Chaque valeur est séparée par une virgule:"
   ]
  },
  {
   "cell_type": "code",
   "execution_count": null,
   "id": "77cedc07",
   "metadata": {},
   "outputs": [],
   "source": [
    "T = np.array([0.934, .916, .903, 0.928, 0.873])"
   ]
  },
  {
   "cell_type": "markdown",
   "id": "71c1fcc4",
   "metadata": {},
   "source": [
    "Nous pouvons ensuite calculer très facilement la valeur moyenne de $T$\n",
    "\n",
    "> Ne pas oublier d'exécuter la cellule ci-dessus"
   ]
  },
  {
   "cell_type": "code",
   "execution_count": null,
   "id": "5e7181fd",
   "metadata": {},
   "outputs": [],
   "source": [
    "Tmoy = np.mean(T)"
   ]
  },
  {
   "cell_type": "markdown",
   "id": "fa87d3e5",
   "metadata": {},
   "source": [
    "L'incertitude associée à cette valeur moyenne est définie par:\n",
    "$$ u(\\bar{T}) = \\frac{u(T)}{\\sqrt{N}} $$\n",
    "où $N$ est le nombre de mesures (ici 5)\n",
    "\n",
    "Pour connaître $N$, il suffit de connaître la taille du tableau $T$: cela se fait à l'aide de la commande len()"
   ]
  },
  {
   "cell_type": "code",
   "execution_count": null,
   "id": "88720434",
   "metadata": {},
   "outputs": [],
   "source": [
    "N = len(T)\n",
    "print(N)"
   ]
  },
  {
   "cell_type": "markdown",
   "id": "bc2d0afe",
   "metadata": {},
   "source": [
    "L'incertitude est donc (on utilise la fonction np.sqrt() qui permet de calculer la racine carrée):"
   ]
  },
  {
   "cell_type": "code",
   "execution_count": null,
   "id": "ade30db5",
   "metadata": {},
   "outputs": [],
   "source": [
    "u_Tmoy = np.std(T, ddof=1)/np.sqrt(N)"
   ]
  },
  {
   "cell_type": "markdown",
   "id": "73d62b9f",
   "metadata": {},
   "source": [
    "On peut afficher maintenant le résultat de la valeur moyenne et de l'incertitude associée:"
   ]
  },
  {
   "cell_type": "code",
   "execution_count": null,
   "id": "06e396be",
   "metadata": {},
   "outputs": [],
   "source": [
    "print(\"La moyenne vaut T = \", format(Tmoy, \"#.3g\"), \"s\")\n",
    "print(\"l'incertitude-type associée : u(T) = \", format(u_Tmoy , \"#.2g\"), \"s\" )"
   ]
  },
  {
   "cell_type": "markdown",
   "id": "c0a17930",
   "metadata": {},
   "source": [
    "> **Les commandes ci-dessus sont à connaitre! Notez-les afin de pouvoir les retrouver pour les prochains TP (vous pouvez les noter sur la fiche méthode sur les incertitudes**"
   ]
  },
  {
   "cell_type": "markdown",
   "id": "3fac63c7",
   "metadata": {},
   "source": [
    "---"
   ]
  },
  {
   "cell_type": "markdown",
   "id": "f14bb616",
   "metadata": {},
   "source": [
    "## Mesure dynamique"
   ]
  },
  {
   "cell_type": "markdown",
   "id": "9a0205c4",
   "metadata": {},
   "source": [
    "> **Utiliser le notebook afin de trouver la valeur de $k$ avec l'incertitude associée**. Vous devrez pour cela faire une dizaines de mesures et créer la variable $m$. \n",
    "\n",
    "Le nombre pi peut s'obtenir avec la commande `np.pi`\n",
    "\n",
    "Pour élever le nombre $a$ à la puissance $n$ la commande est `a**n`\n",
    "\n",
    "Une nouvelle cellule peut-être créée en cliquant sur `+`\n",
    "\n",
    "On appelera `k1` la valeur de $k$ par mesure dynamique et `u_k1` l'incertitude associée"
   ]
  },
  {
   "cell_type": "code",
   "execution_count": null,
   "id": "8d6f2f94",
   "metadata": {},
   "outputs": [],
   "source": [
    "m = # à compléter (en unité SI)\n",
    "T = # à compléter (doit être un tableau d'une dizaine de valeurs)\n",
    "k1 = # à compléter "
   ]
  },
  {
   "cell_type": "markdown",
   "id": "b24dacca",
   "metadata": {},
   "source": [
    "---"
   ]
  },
  {
   "cell_type": "markdown",
   "id": "8d257344",
   "metadata": {},
   "source": [
    "## Mesure statique"
   ]
  },
  {
   "cell_type": "markdown",
   "id": "13f62d46",
   "metadata": {},
   "source": [
    "> **Utiliser le notebook afin de trouver la valeur de $k$ avec l'incertitude associée**. Vous devrez pour cela faire une dizaines de mesures et créer la variable $m$. \n",
    "\n",
    "On appelera `k2` la valeur de $k$ par mesure dynamique et `u_k2` l'incertitude associée"
   ]
  },
  {
   "cell_type": "code",
   "execution_count": null,
   "id": "e5b4a6d2",
   "metadata": {},
   "outputs": [],
   "source": [
    "l = # à compléter (doit être un tableau d'une dizaine de valeurs)\n",
    "m = # à compléter (doit être un tableau d'une dizaine de valeurs)"
   ]
  },
  {
   "cell_type": "markdown",
   "id": "0e28fd55",
   "metadata": {},
   "source": [
    "---"
   ]
  },
  {
   "cell_type": "markdown",
   "id": "4671ecd3",
   "metadata": {},
   "source": [
    "## Bilan"
   ]
  },
  {
   "cell_type": "markdown",
   "id": "697220b8",
   "metadata": {},
   "source": [
    "Afin de comparer `k1` et `k2`, il faut calculer l'écart normalisé (voir fiche méthode). \n",
    "\n",
    "> **Calculer l'écart normalisé et conclure**"
   ]
  },
  {
   "cell_type": "code",
   "execution_count": null,
   "id": "30e2a2e2",
   "metadata": {},
   "outputs": [],
   "source": []
  }
 ],
 "metadata": {
  "kernelspec": {
   "display_name": "Python 3 (ipykernel)",
   "language": "python",
   "name": "python3"
  },
  "language_info": {
   "codemirror_mode": {
    "name": "ipython",
    "version": 3
   },
   "file_extension": ".py",
   "mimetype": "text/x-python",
   "name": "python",
   "nbconvert_exporter": "python",
   "pygments_lexer": "ipython3",
   "version": "3.10.6"
  }
 },
 "nbformat": 4,
 "nbformat_minor": 5
}
