{
 "cells": [
  {
   "cell_type": "markdown",
   "id": "d5f6a32c",
   "metadata": {},
   "source": [
    "# Activité sur l'étude de la cinétique d'une transformation\n",
    "\n",
    "---\n",
    "\n",
    "**Capacité numérique** : mettre en œuvre la méthode d’Euler à l’aide d’un langage de programmation pour simuler l’évolution temporelle de la concentration des constituants.\n",
    "\n",
    "---"
   ]
  },
  {
   "cell_type": "markdown",
   "id": "65caa33b",
   "metadata": {},
   "source": [
    "Ce document s'intéresse à la modélisation cinétique d'une transformation de $A$ en $C$ selon le mécanisme suivant:\n",
    "\n",
    "\\begin{align}   \n",
    "    \\mathsf{ A \\xrightarrow{\\text{$k_{1}$}} \\mathsf B \\\\ \n",
    "    B \\xrightarrow{\\text{$k_{2}$}} \\mathsf C }   \n",
    "\\end{align}\n",
    "\n",
    "où $\\mathsf{k_1}$ et $\\mathsf{k_2}$ représentent les constantes de vitesse de l'acte élémentaire.\n",
    "\n",
    "---"
   ]
  },
  {
   "cell_type": "markdown",
   "id": "b482fb6d",
   "metadata": {},
   "source": [
    "Import des bibliothèque: numpy pour la gestion des tableaux/calculs et matplotlib pour les affichages graphiques"
   ]
  },
  {
   "cell_type": "code",
   "execution_count": null,
   "id": "8bd4cf24",
   "metadata": {},
   "outputs": [],
   "source": [
    "import numpy as np                      # pour le traitement vectoriel des données\n",
    "import matplotlib.pyplot as plt         # pour les graphiques"
   ]
  },
  {
   "cell_type": "markdown",
   "id": "dcbfc574",
   "metadata": {},
   "source": [
    "**Rentrer les paramètres de la simulation: temps final, pas de temps et nombre d'itérations.**"
   ]
  },
  {
   "cell_type": "code",
   "execution_count": null,
   "id": "cf5234cc",
   "metadata": {},
   "outputs": [],
   "source": []
  },
  {
   "cell_type": "markdown",
   "id": "8b70c2e0",
   "metadata": {},
   "source": [
    "**Créations des tableaux des concentrations et du temps**\n",
    "\n",
    "On utilisera la bibliothèque numpy pour créer les tableaux. La création d'un tableau de $N$ valeurs égales à 0 s'effectue avec la commande np.zeros(N)."
   ]
  },
  {
   "cell_type": "code",
   "execution_count": null,
   "id": "85b24496",
   "metadata": {},
   "outputs": [],
   "source": []
  },
  {
   "cell_type": "markdown",
   "id": "610c4758",
   "metadata": {},
   "source": [
    "**Ecrire les conditions initiales et les valeurs des constantes de vitesse**"
   ]
  },
  {
   "cell_type": "code",
   "execution_count": null,
   "id": "ed0f683b",
   "metadata": {},
   "outputs": [],
   "source": []
  },
  {
   "cell_type": "markdown",
   "id": "45f9e0fd",
   "metadata": {},
   "source": [
    "**Ecrire l'algorithme de la méthode d'Euler qui permet de calculer les concentrations de A, B et C en fonction du temps, ainsi que le temps t**"
   ]
  },
  {
   "cell_type": "code",
   "execution_count": null,
   "id": "91b37b2c",
   "metadata": {},
   "outputs": [],
   "source": []
  },
  {
   "cell_type": "markdown",
   "id": "abda4251",
   "metadata": {},
   "source": [
    "**Faire le tracé graphique de A, B et C en fonction du temps**"
   ]
  },
  {
   "cell_type": "code",
   "execution_count": null,
   "id": "83aa8eb6",
   "metadata": {},
   "outputs": [],
   "source": []
  },
  {
   "cell_type": "markdown",
   "id": "036868f9",
   "metadata": {},
   "source": [
    "**Modifier la valeurs de k2 et observer l'influence sur la concentration. Si k2 augmente cela veut dire que la réaction est plus rapide**"
   ]
  },
  {
   "cell_type": "code",
   "execution_count": null,
   "id": "b311c33a",
   "metadata": {},
   "outputs": [],
   "source": []
  },
  {
   "cell_type": "code",
   "execution_count": null,
   "id": "9f24fdd9",
   "metadata": {},
   "outputs": [],
   "source": []
  },
  {
   "cell_type": "code",
   "execution_count": null,
   "id": "9b1ec13c",
   "metadata": {},
   "outputs": [],
   "source": []
  }
 ],
 "metadata": {
  "kernelspec": {
   "display_name": "Python 3 (ipykernel)",
   "language": "python",
   "name": "python3"
  },
  "language_info": {
   "codemirror_mode": {
    "name": "ipython",
    "version": 3
   },
   "file_extension": ".py",
   "mimetype": "text/x-python",
   "name": "python",
   "nbconvert_exporter": "python",
   "pygments_lexer": "ipython3",
   "version": "3.9.9"
  }
 },
 "nbformat": 4,
 "nbformat_minor": 5
}
