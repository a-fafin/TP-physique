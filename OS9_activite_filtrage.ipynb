{
 "cells": [
  {
   "cell_type": "markdown",
   "id": "ffe260bc",
   "metadata": {},
   "source": [
    "# Activité numérique sur le filtrage d'un signal"
   ]
  },
  {
   "cell_type": "markdown",
   "id": "3d2a144e",
   "metadata": {},
   "source": [
    "Import des bibliothèque: numpy pour la gestion des tableaux/calculs et matplotlib pour les affichages graphiques"
   ]
  },
  {
   "cell_type": "code",
   "execution_count": null,
   "id": "df90ab0f",
   "metadata": {},
   "outputs": [],
   "source": [
    "import numpy as np                      # pour le traitement vectoriel des données\n",
    "import matplotlib.pyplot as plt         # pour les graphiques\n",
    "from math import *"
   ]
  },
  {
   "cell_type": "markdown",
   "id": "9aac4cdf",
   "metadata": {},
   "source": [
    "## Construction du signal d'entrée"
   ]
  },
  {
   "cell_type": "markdown",
   "id": "388742a8",
   "metadata": {},
   "source": [
    "Fréquence, période et pulsation"
   ]
  },
  {
   "cell_type": "code",
   "execution_count": null,
   "id": "49d279fd",
   "metadata": {},
   "outputs": [],
   "source": [
    "fe = 1000 # Fréquence fondamentale du signal d'entrée, en Hertz\n",
    "we = 2*pi*fe\n",
    "Te = 1/fe"
   ]
  },
  {
   "cell_type": "markdown",
   "id": "e53ce2a1",
   "metadata": {},
   "source": [
    "Définition d'une variable de temps sur 5 période"
   ]
  },
  {
   "cell_type": "code",
   "execution_count": null,
   "id": "8547d068",
   "metadata": {},
   "outputs": [],
   "source": [
    "t = np.linspace(0,5*Te,500) # On utilise 500 points"
   ]
  },
  {
   "cell_type": "markdown",
   "id": "4aeac1b3",
   "metadata": {},
   "source": [
    "---"
   ]
  },
  {
   "cell_type": "markdown",
   "id": "4089b9d3",
   "metadata": {},
   "source": [
    "### A compléter"
   ]
  },
  {
   "cell_type": "markdown",
   "id": "b5a4c0b0",
   "metadata": {},
   "source": [
    "**Liste des amplitudes de chaque harmonique**"
   ]
  },
  {
   "cell_type": "code",
   "execution_count": null,
   "id": "69bb30ba",
   "metadata": {},
   "outputs": [],
   "source": [
    "c_entree = []"
   ]
  },
  {
   "cell_type": "markdown",
   "id": "c432dec0",
   "metadata": {},
   "source": [
    "**Liste des amplitudes de chaque harmonique**"
   ]
  },
  {
   "cell_type": "code",
   "execution_count": null,
   "id": "43f28ae4",
   "metadata": {},
   "outputs": [],
   "source": [
    "phi_entree = []"
   ]
  },
  {
   "cell_type": "markdown",
   "id": "bb14cd95",
   "metadata": {},
   "source": [
    "---"
   ]
  },
  {
   "cell_type": "markdown",
   "id": "03ddd3fe",
   "metadata": {},
   "source": [
    "Définition de la fonction signal, permettant de tracer le signal connaissant les valeurs des coefficients $c_n$ et $\\varphi_n$"
   ]
  },
  {
   "cell_type": "code",
   "execution_count": null,
   "id": "b0220a56",
   "metadata": {},
   "outputs": [],
   "source": [
    "def signal(c,phi,t):\n",
    "    \"\"\"c et phi : liste des amplitudes et phases à l'origine du spectre du signal,\n",
    "       t : liste qui contient les instants t[i] auxquels on calcule le signal.\n",
    "       Retourne : une liste \"signal\" qui contient les valeurs du signal aux instants t[i].\"\"\"\n",
    "    signal = []    \n",
    "    \n",
    "    for i in range(len(t)):  # à chaque itération, on calcule la valeur du signal au temps t[i]\n",
    "        val = c[0]\n",
    "        for n in range(1,len(c)):     # n vaut 1, 2, ..., N-1\n",
    "            val = val + c[n]*np.cos(n*we*t[i]+phi[n])\n",
    "\n",
    "        signal.append(val) # on ajoute val à la liste \"signal\"\n",
    "    \n",
    "    return signal"
   ]
  },
  {
   "cell_type": "markdown",
   "id": "f5e23e65",
   "metadata": {},
   "source": [
    "Appel de la fonction signal afin de construire le signal d'entrée"
   ]
  },
  {
   "cell_type": "code",
   "execution_count": null,
   "id": "7c760056",
   "metadata": {},
   "outputs": [],
   "source": [
    "signal_entree = signal(c_entree,phi_entree,t)"
   ]
  },
  {
   "cell_type": "markdown",
   "id": "4270a0d8",
   "metadata": {},
   "source": [
    "Tracé du signal d'entrée"
   ]
  },
  {
   "cell_type": "code",
   "execution_count": null,
   "id": "ad8ec465",
   "metadata": {},
   "outputs": [],
   "source": [
    "plt.figure(1) # Permet de créer la figure 1\n",
    "plt.plot(t,signal_entree)\n",
    "plt.show()"
   ]
  },
  {
   "cell_type": "markdown",
   "id": "270311e2",
   "metadata": {},
   "source": [
    "## Construction du signal de sortie"
   ]
  },
  {
   "cell_type": "markdown",
   "id": "085feb75",
   "metadata": {},
   "source": [
    "### A compléter "
   ]
  },
  {
   "cell_type": "code",
   "execution_count": null,
   "id": "ec4f9834",
   "metadata": {},
   "outputs": [],
   "source": [
    "f0 = 1e3 # fréquence de coupure du passe bas, en hertz\n",
    "w0 = 2*pi*f0 \n",
    "\n",
    "# Gain du filtre en fonction de la pulsation w\n",
    "def G(w):\n",
    "    return ## à compléter\n",
    "\n",
    "# Argument de H en fonction de la pulsation w\n",
    "def argH(w):\n",
    "    return ## à compléter (q6)"
   ]
  },
  {
   "cell_type": "code",
   "execution_count": null,
   "id": "10aff69f",
   "metadata": {},
   "outputs": [],
   "source": [
    "# Construction de la liste des c[n] et des phi[n] du signal de sortie :\n",
    "c_sortie = []\n",
    "phi_sortie = []\n",
    "for n in range(len(c_entree)):\n",
    "    c_sortie.append(           ## à compléter \n",
    "    phi_sortie.append(         ## à compléter\n",
    "\n",
    "# Le signal de sortie est alors :\n",
    "signal_sortie =   ## à compléter en utilisant la fonction signal()\n",
    "\n",
    "# et on le trace :\n",
    "plt.figure(1) # on trace sur l'ancienne figure.\n",
    "plt.plot(t, signal_entree,label='e(t)')\n",
    "plt.plot(t, signal_sortie,label='s(t)')\n",
    "plt.legend()  # affiche la légende\n",
    "plt.show()    # affiche le graphe "
   ]
  },
  {
   "cell_type": "markdown",
   "id": "f78d0724",
   "metadata": {},
   "source": [
    "## Analyse spectrale"
   ]
  },
  {
   "cell_type": "markdown",
   "id": "5e85e731",
   "metadata": {},
   "source": [
    "### A compléter \n",
    "Représenter le spectre du signal d'entrée et celui du signal de sortie"
   ]
  },
  {
   "cell_type": "code",
   "execution_count": null,
   "id": "677560f1",
   "metadata": {},
   "outputs": [],
   "source": [
    "#Création d'une variable freq, qui a pour valeur n x f_e.\n",
    "freq = np.arange(0,len(c_entree))*fe\n",
    "plt.figure(2)\n",
    "plt.title(\"Action d'un filtre passe-bas\")\n",
    "plt.vlines(freq,0,c_entree,linewidth=4,label='e')\n",
    "# A compléter\n",
    "plt.legend()\n",
    "plt.show()"
   ]
  },
  {
   "cell_type": "code",
   "execution_count": null,
   "id": "cdf73c70",
   "metadata": {},
   "outputs": [],
   "source": []
  }
 ],
 "metadata": {
  "kernelspec": {
   "display_name": "Python 3 (ipykernel)",
   "language": "python",
   "name": "python3"
  },
  "language_info": {
   "codemirror_mode": {
    "name": "ipython",
    "version": 3
   },
   "file_extension": ".py",
   "mimetype": "text/x-python",
   "name": "python",
   "nbconvert_exporter": "python",
   "pygments_lexer": "ipython3",
   "version": "3.9.10"
  }
 },
 "nbformat": 4,
 "nbformat_minor": 5
}
